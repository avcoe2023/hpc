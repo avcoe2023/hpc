{
 "cells": [
  {
   "cell_type": "code",
   "execution_count": 1,
   "id": "d73adc6f",
   "metadata": {},
   "outputs": [
    {
     "name": "stdout",
     "output_type": "stream",
     "text": [
      "Epoch 1/10\n",
      "404/404 [==============================] - 1s 2ms/step - loss: 131.0390 - mae: 7.8455 - val_loss: 19.3766 - val_mae: 2.8508\n",
      "Epoch 2/10\n",
      "404/404 [==============================] - 0s 1ms/step - loss: 19.3229 - mae: 3.0878 - val_loss: 15.7931 - val_mae: 2.5685\n",
      "Epoch 3/10\n",
      "404/404 [==============================] - 0s 1ms/step - loss: 16.3272 - mae: 2.8503 - val_loss: 14.3335 - val_mae: 2.5637\n",
      "Epoch 4/10\n",
      "404/404 [==============================] - 0s 1ms/step - loss: 14.0230 - mae: 2.6853 - val_loss: 14.0513 - val_mae: 2.4164\n",
      "Epoch 5/10\n",
      "404/404 [==============================] - 1s 1ms/step - loss: 13.0648 - mae: 2.4881 - val_loss: 13.4713 - val_mae: 2.5391\n",
      "Epoch 6/10\n",
      "404/404 [==============================] - 1s 1ms/step - loss: 12.0507 - mae: 2.5050 - val_loss: 14.8241 - val_mae: 2.9249\n",
      "Epoch 7/10\n",
      "404/404 [==============================] - 1s 1ms/step - loss: 11.6186 - mae: 2.5043 - val_loss: 12.9444 - val_mae: 2.4436\n",
      "Epoch 8/10\n",
      "404/404 [==============================] - 1s 1ms/step - loss: 10.4348 - mae: 2.3794 - val_loss: 11.6250 - val_mae: 2.3397\n",
      "Epoch 9/10\n",
      "404/404 [==============================] - 1s 1ms/step - loss: 10.2567 - mae: 2.3418 - val_loss: 14.4206 - val_mae: 2.7906\n",
      "Epoch 10/10\n",
      "404/404 [==============================] - 1s 1ms/step - loss: 10.0432 - mae: 2.3870 - val_loss: 10.8899 - val_mae: 2.2083\n",
      "4/4 [==============================] - 0s 5ms/step - loss: 10.8899 - mae: 2.2083\n",
      "Mean squared error on test data: 10.889867782592773\n",
      "Mean absolute error on test data: 2.2083122730255127\n",
      "1/1 [==============================] - 0s 100ms/step\n",
      "Actual Output: 19.6\n",
      "Predicted Output: 26.494787\n"
     ]
    }
   ],
   "source": [
    "import pandas as pd\n",
    "import numpy as np\n",
    "from sklearn.model_selection import train_test_split\n",
    "from tensorflow.keras.models import Sequential\n",
    "from tensorflow.keras.layers import Dense\n",
    "\n",
    "# Load the Boston housing dataset from a CSV file\n",
    "df = pd.read_csv(\"BostonHousingData.csv\")\n",
    "x = df.drop(\"MEDV\", axis=1).values\n",
    "y = df[\"MEDV\"].values\n",
    "\n",
    "# Split the data into training and testing sets\n",
    "x_train, x_test, y_train, y_test = train_test_split(x, y, test_size=0.2, random_state=42)\n",
    "\n",
    "# Normalize the features\n",
    "mean = np.mean(x_train, axis=0)\n",
    "std = np.std(x_train, axis=0)\n",
    "x_train = (x_train - mean) / std\n",
    "x_test = (x_test - mean) / std\n",
    "\n",
    "# Build the model\n",
    "model = Sequential([\n",
    "    Dense(128, activation='relu', input_shape=(x_train[0].shape)),\n",
    "    Dense(64, activation='relu'),\n",
    "    Dense(1, activation='linear')\n",
    "])\n",
    "\n",
    "# Compile the model\n",
    "model.compile(optimizer='adam', loss='mse', metrics=['mae'])\n",
    "\n",
    "# Train the model\n",
    "model.fit(x_train, y_train, epochs=10, batch_size=1, verbose=1, validation_data=(x_test, y_test))\n",
    "\n",
    "# Evaluate the model\n",
    "loss, mae = model.evaluate(x_test, y_test)\n",
    "print('Mean squared error on test data:', loss)\n",
    "print('Mean absolute error on test data:', mae)\n",
    "\n",
    "# Predict the housing prices using the trained model\n",
    "test_input = [[-0.42101827, -0.50156705, -1.13081973, -0.25683275, -0.55572682, 0.19758953, 0.20684755, -0.34272202, -0.87422469, -0.84336666, -0.32505625, 0.41244772, -0.63500406]]\n",
    "predicted_output = model.predict(test_input)\n",
    "print('Actual Output:', y_test[8])\n",
    "print('Predicted Output:', predicted_output[0][0])\n",
    "\n"
   ]
  },
  {
   "cell_type": "code",
   "execution_count": null,
   "id": "8d495d98",
   "metadata": {},
   "outputs": [],
   "source": []
  }
 ],
 "metadata": {
  "kernelspec": {
   "display_name": "Python 3 (ipykernel)",
   "language": "python",
   "name": "python3"
  },
  "language_info": {
   "codemirror_mode": {
    "name": "ipython",
    "version": 3
   },
   "file_extension": ".py",
   "mimetype": "text/x-python",
   "name": "python",
   "nbconvert_exporter": "python",
   "pygments_lexer": "ipython3",
   "version": "3.10.9"
  }
 },
 "nbformat": 4,
 "nbformat_minor": 5
}
